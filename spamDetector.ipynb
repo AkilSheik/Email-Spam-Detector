{
 "cells": [
  {
   "cell_type": "code",
   "execution_count": 12,
   "metadata": {},
   "outputs": [],
   "source": [
    "import numpy as np\n",
    "import pandas as pd\n",
    "import nltk\n",
    "from nltk.corpus import stopwords\n",
    "import string\n",
    "from sklearn.feature_extraction.text import CountVectorizer\n",
    "from sklearn.model_selection import train_test_split"
   ]
  },
  {
   "cell_type": "code",
   "execution_count": 13,
   "metadata": {},
   "outputs": [
    {
     "name": "stderr",
     "output_type": "stream",
     "text": [
      "[nltk_data] Downloading package stopwords to\n",
      "[nltk_data]     C:\\Users\\akils\\AppData\\Roaming\\nltk_data...\n",
      "[nltk_data]   Package stopwords is already up-to-date!\n"
     ]
    },
    {
     "data": {
      "text/plain": [
       "True"
      ]
     },
     "execution_count": 13,
     "metadata": {},
     "output_type": "execute_result"
    }
   ],
   "source": [
    "#Reading the CSV file\n",
    "df = pd.read_csv('spam_ham_dataset.csv')\n",
    "\n",
    "#Check for duplicates\n",
    "df.drop_duplicates(inplace = True)\n",
    "\n",
    "nltk.download('stopwords')"
   ]
  },
  {
   "cell_type": "code",
   "execution_count": 14,
   "metadata": {},
   "outputs": [],
   "source": [
    "def process_text(text):\n",
    "    #1 Remoe punctuation\n",
    "    #2 Remove stopwords(useless words)\n",
    "    #3 return a list of clean text words\n",
    "\n",
    "    #1 \n",
    "\n",
    "    #List compression, where loops through each charecter to see if its a punctuation. This is still \n",
    "    #a string. \n",
    "    nopunc = [char for char in text if char not in string.punctuation]\n",
    "\n",
    "    #Attaches a space at beggining of nopunc\n",
    "    nopunc = ''.join(nopunc)\n",
    "\n",
    "    #2 \n",
    "\n",
    "    #Loops through every word in nopunc(split seperates text )\n",
    "    clean_words = [word for word in nopunc.split() if word.lower() not in stopwords.words('english')]\n",
    "    return clean_words"
   ]
  },
  {
   "cell_type": "code",
   "execution_count": 11,
   "metadata": {},
   "outputs": [],
   "source": [
    "messages_bow = CountVectorizer(analyzer=process_text).fit_transform(df['text'])\n"
   ]
  },
  {
   "cell_type": "code",
   "execution_count": 16,
   "metadata": {},
   "outputs": [],
   "source": [
    "X_train, X_test, y_train, y_test = train_test_split(messages_bow, df['label_num'], test_size = 0.20, random_state = 0)"
   ]
  }
 ],
 "metadata": {
  "kernelspec": {
   "display_name": "Python 3.10.5 64-bit",
   "language": "python",
   "name": "python3"
  },
  "language_info": {
   "codemirror_mode": {
    "name": "ipython",
    "version": 3
   },
   "file_extension": ".py",
   "mimetype": "text/x-python",
   "name": "python",
   "nbconvert_exporter": "python",
   "pygments_lexer": "ipython3",
   "version": "3.10.5"
  },
  "orig_nbformat": 4,
  "vscode": {
   "interpreter": {
    "hash": "0fa90f43319a9f62bf08ba0d719fa3f083530ec60f6e7ad73b552f81a13c9139"
   }
  }
 },
 "nbformat": 4,
 "nbformat_minor": 2
}
